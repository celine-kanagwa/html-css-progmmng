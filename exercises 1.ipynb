{
 "cells": [
  {
   "cell_type": "markdown",
   "id": "ae810df6",
   "metadata": {},
   "source": [
    "### finding the higest number in the given list given set my_list = [4,2,6,5,0,1,-2]"
   ]
  },
  {
   "cell_type": "code",
   "execution_count": 2,
   "id": "2040ffa4",
   "metadata": {},
   "outputs": [
    {
     "name": "stdout",
     "output_type": "stream",
     "text": [
      "[-2, 0, 1, 2, 4, 5, 6]\n",
      "6\n"
     ]
    }
   ],
   "source": [
    "\n",
    "my_list = [4,2,6,5,0,1,-2]\n",
    "#list function to sort list from lowest to highest\n",
    "my_list.sort()\n",
    "print (my_list)\n",
    "print(my_list[-1])\n",
    "\n",
    "\n"
   ]
  }
 ],
 "metadata": {
  "kernelspec": {
   "display_name": "Python 3 (ipykernel)",
   "language": "python",
   "name": "python3"
  },
  "language_info": {
   "codemirror_mode": {
    "name": "ipython",
    "version": 3
   },
   "file_extension": ".py",
   "mimetype": "text/x-python",
   "name": "python",
   "nbconvert_exporter": "python",
   "pygments_lexer": "ipython3",
   "version": "3.8.12"
  }
 },
 "nbformat": 4,
 "nbformat_minor": 5
}
